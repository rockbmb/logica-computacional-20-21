{
 "cells": [
  {
   "cell_type": "markdown",
   "metadata": {},
   "source": [
    "# Lógica Computacional 21/22\n",
    "\n",
    "## Trabalho Prático 4\n",
    "\n",
    "ID: Pergunta 1 - Grupo 1\n",
    "\n",
    "Equipa:\n",
    "\n",
    "1. Alef Keuffer (A91683)\n",
    "2. Alexandre Rodrigues Baldé (A70373)\n",
    "\n",
    "## Preparação do código\n",
    "\n",
    "### Dependências"
   ]
  },
  {
   "cell_type": "code",
   "execution_count": 49,
   "metadata": {},
   "outputs": [
    {
     "name": "stdout",
     "output_type": "stream",
     "text": [
      "Requirement already satisfied: pysmt in c:\\programdata\\anaconda3\\lib\\site-packages (0.9.0)\n",
      "Requirement already satisfied: six in c:\\programdata\\anaconda3\\lib\\site-packages (from pysmt) (1.16.0)\n",
      "Note: you may need to restart the kernel to use updated packages.\n",
      "Note: you may need to restart the kernel to use updated packages.\n"
     ]
    },
    {
     "name": "stderr",
     "output_type": "stream",
     "text": [
      "ERROR: Could not find a version that satisfies the requirement yicespy\n",
      "ERROR: No matching distribution found for yicespy\n"
     ]
    }
   ],
   "source": [
    "%pip install pysmt\n",
    "%pip install yicespy"
   ]
  },
  {
   "cell_type": "markdown",
   "metadata": {},
   "source": [
    "# Enunciado do problema"
   ]
  },
  {
   "cell_type": "markdown",
   "metadata": {},
   "source": [
    "#### Python Anotado"
   ]
  },
  {
   "cell_type": "markdown",
   "metadata": {},
   "source": [
    "Considere o seguinte programa, em Python anotado, para multiplicação de dois inteiros de precisão limitada a 16 bits."
   ]
  },
  {
   "cell_type": "markdown",
   "metadata": {},
   "source": [
    "```python\n",
    "        assume m >= 0 and n >= 0 and r == 0 and x == m and y == n \n",
    "    0: while y > 0:\n",
    "    1:    if y & 1 == 1: \n",
    "                y , r  = y-1 , r+x\n",
    "    2:    x , y = x<<1  ,  y>>1\n",
    "    3: assert r == m * n\n",
    "```"
   ]
  },
  {
   "cell_type": "markdown",
   "metadata": {},
   "source": [
    "1. Prove por indução a terminação deste programa\n",
    "$$\\,$$\n",
    "2. Pretende-se verificar a correção total deste  programa usando a metodologia dos invariantes e a metodologia do “single assignment unfolding”. Para isso, \n",
    "    1. Codifique usando a LPA (linguagem de programas anotadas) a forma recursiva deste programa. \n",
    "    2. Proponha o invariante mais fraco que assegure a correção, codifique-o em SMT e prove a correção.\n",
    "    3. Construa a definição iterativa do “single assignment unfolding”  usando um parâmetro limite $$\\,N\\,$$  e aumentando a pré-condição com a condição \n",
    "                                            $$(n < N)\\,\\land\\,(m<N)$$\n",
    "        O número de iterações vai ser controlado por este parâmetro $$N$$"
   ]
  },
  {
   "cell_type": "markdown",
   "metadata": {},
   "source": [
    "# Pergunta 1"
   ]
  },
  {
   "cell_type": "markdown",
   "metadata": {},
   "source": [
    "## FOTS para o programa anotado"
   ]
  },
  {
   "cell_type": "markdown",
   "metadata": {},
   "source": [
    "Construa-se um FOTS que modela o programa anotado do enunciado, de forma a utilizar-se $k$-indução para provar a sua terminação.\n",
    "  \n",
    "Considerem-se as variáveis $x,y,r,m,n$ parte do FOTS, assim como uma variável $pc$ que indica a que instrução em que a execução do programa está num dado momento.\n",
    "  \n",
    "Defina-se agora a função que declara as variáveis do FOTS:"
   ]
  },
  {
   "cell_type": "markdown",
   "metadata": {},
   "source": [
    "### Variáveis e estado inicial do FOTS"
   ]
  },
  {
   "cell_type": "code",
   "execution_count": 10,
   "metadata": {},
   "outputs": [],
   "source": [
    "from pysmt.shortcuts import *\n",
    "from pysmt.typing import *\n",
    "\n",
    "word_len = 16\n",
    "\n",
    "BV16 = BVType(word_len)\n",
    "\n",
    "def declare(i):\n",
    "    state = {}\n",
    "    \n",
    "    state['x'] = Symbol('x'+str(i), BV16)\n",
    "    state['y'] = Symbol('y'+str(i), BV16)\n",
    "    state['r'] = Symbol('r'+str(i), BV16)\n",
    "    state['m'] = Symbol('m'+str(i), BV16)\n",
    "    state['n'] = Symbol('n'+str(i), BV16)\n",
    "    state['pc'] = Symbol('pc'+str(i), INT)\n",
    "    \n",
    "    return state"
   ]
  },
  {
   "cell_type": "markdown",
   "metadata": {},
   "source": [
    "---\n",
    "#### Funções auxiliares\n",
    "\n",
    "O PySMT não permite comparação entre vetores de bits e inteiros, logo a função abaixo é necessária para o fazer."
   ]
  },
  {
   "cell_type": "code",
   "execution_count": 11,
   "metadata": {},
   "outputs": [],
   "source": [
    "def bitVecIntComp(vec, i, bin_op):\n",
    "    intVec = BV(i, word_len)\n",
    "    if i == 0:\n",
    "        intVec = BVZero(word_len)\n",
    "    elif i == 1:\n",
    "        intVec = BVOne(word_len)\n",
    "    if bin_op == \"EQ\":\n",
    "        \n",
    "        return Equals(vec, intVec)\n",
    "    elif bin_op == \"NEQ\":\n",
    "        return Equals(vec, intVec)\n",
    "    elif bin_op == \"GT\":\n",
    "        return GT(BVToNatural(vec), Int(i))\n",
    "    elif bin_op == \"GE\":\n",
    "        return GE(BVToNatural(vec), Int(i))\n",
    "    elif bin_op == \"LT\":\n",
    "        return LT(BVToNatural(vec), Int(i))\n",
    "    elif bin_op == \"LE\":\n",
    "        return LE(BVToNatural(vec), Int(i))\n",
    "    raise ValueError(\"Wrong operator supplied to helper function bitVecIntComp!\")"
   ]
  },
  {
   "cell_type": "markdown",
   "metadata": {},
   "source": [
    "---"
   ]
  },
  {
   "cell_type": "markdown",
   "metadata": {},
   "source": [
    "O predicado que define o estado inicial do FOTS é\n",
    "\n",
    "$$\n",
    "pc = 0 \\land m \\ge 0 \\land n \\ge 0 \\land r = 0 \\land x = m \\land y = n \n",
    "$$\n",
    "\n",
    "Este predicado deriva da pre-condição do programa.\n",
    "  \n",
    "Note-se que, para resolver este problema, se consideram $m, n \\ge 0$, ou seja, está-se a trabalhar no anel $\\mathbb{Z}_{2^{16}}$, e havendo overflow, interpreta-se o resultado dessa forma."
   ]
  },
  {
   "cell_type": "code",
   "execution_count": 12,
   "metadata": {},
   "outputs": [],
   "source": [
    "def init(state):\n",
    "    l = []\n",
    "\n",
    "    l.append(bitVecIntComp(state['m'], 0, \"GE\"))\n",
    "    l.append(bitVecIntComp(state['n'], 0, \"GE\"))\n",
    "    l.append(bitVecIntComp(state['r'], 0, \"EQ\"))\n",
    "    l.append(Equals(state['x'], state['m']))\n",
    "    l.append(Equals(state['y'], state['n']))\n",
    "    l.append(Equals(state['pc'], Int(0)))\n",
    "\n",
    "    return And(l)"
   ]
  },
  {
   "cell_type": "markdown",
   "metadata": {},
   "source": [
    "### Função de transição"
   ]
  },
  {
   "cell_type": "markdown",
   "metadata": {},
   "source": [
    "#### $pc = 0$\n",
    "Quando a variável $pc$ tem o valor $0$, o programa está no ciclo, e há duas possibilidades:\n",
    "  - permanecer dentro do ciclo caso a condição seja verdadeira, ou\n",
    "  - transitar para o fim do programa caso a condição seja falsa.\n",
    "\n",
    "Isto corresponde aos predicados:\n",
    "\n",
    "* $pc = 0 \\land y \\gt 0 \\land y' = y \\land m' = m \\land r' = r \\land x' = x \\land n' = n \\land pc'= 1$\n",
    "  \n",
    "e\n",
    "  \n",
    "* $pc = 0 \\land y \\le 0 \\land y' = y \\land m' = m \\land r' = r \\land x' = x \\land n' = n \\land pc' = 3$\n",
    "\n",
    "---\n",
    "\n",
    "#### $pc = 1$\n",
    "Quando o valor de $pc$ é $1$, entrou-se dentro do ciclo.\\\n",
    "A próxima instrução é um `if_then_else`, donde:\n",
    "* a condição é verdadeira e as variáveis $y$ e $r$ são alteradas, ou então\n",
    "* a condição é falsa e as variáveis $y$ e $r$ não são alteradas.\n",
    "  \n",
    "Daqui, os seguintes predicados:\n",
    "\n",
    "*\n",
    "$$\n",
    "pc = 1 \\land \\quad y \\& 1 = 1 \\quad \\land \\quad y' = y - 1 \\quad \\land \\quad m' = m \\quad \\land \\quad r' = r + x \\quad \\land \n",
    "$$\n",
    "\n",
    "$$\n",
    "\\quad x' = x \\quad \\land \\quad n' = n \\quad \\land \\quad pc' = 2\n",
    "$$\n",
    "  \n",
    "e\n",
    "  \n",
    "*\n",
    "$$\n",
    "pc = 1 \\quad \\land \\quad \\neg(y \\quad \\& \\quad 1 = 1) \\quad \\land \\quad y' = y \\quad \\land \\quad m' = m \\quad \\land \\quad r' = r \\quad \\land \n",
    "$$\n",
    "$$ \n",
    "\\quad x' = x \\quad \\land \\quad n' = n \\quad \\land \\quad pc' = 2\n",
    "$$\n",
    "\n",
    "---\n",
    "\n",
    "#### $pc = 2$\n",
    "Quando $pc = 2$, termina-se a execução do corpo do ciclo, e volta-se a $pc = 0$, para re-executar o ciclo se a condição se verificar.\n",
    "\n",
    "$$\n",
    "pc = 2 \\land y' = y >> 1 \\land m' = m \\land r' = r \\land x' = x << 1 \\land n' = n \\land pc' = 0\n",
    "$$\n",
    "\n",
    "---\n",
    "\n",
    "#### $pc = 3$\n",
    "Este caso correspondo à transição do estado final para ele próprio:\n",
    "\n",
    "$$\n",
    "pc = 3 \\land y' = y \\land m' = m \\land r' = r \\land x' = x \\land n' = n \\land pc' = 3\n",
    "$$"
   ]
  },
  {
   "cell_type": "markdown",
   "metadata": {},
   "source": [
    "Note-se o uso da função `bitVecIntComp` para fazer as comparações entre `INT`s de PySMT e `BVType(16)`."
   ]
  },
  {
   "cell_type": "code",
   "execution_count": 13,
   "metadata": {},
   "outputs": [],
   "source": [
    "def trans(curr, prox):\n",
    "    l = []\n",
    "\n",
    "    state1 = [Equals(curr['pc'], Int(0)),\n",
    "              bitVecIntComp(curr['y'], 0, \"GT\"),\n",
    "              Equals(prox['y'], curr['y']),\n",
    "              Equals(prox['m'], curr['m']),\n",
    "              Equals(prox['r'],  curr['r']),\n",
    "              Equals(prox['x'], curr['x']),\n",
    "              Equals(prox['n'], curr['n']),\n",
    "              Equals(prox['pc'], Int(1))]\n",
    "    l.append(And(state1))\n",
    "\n",
    "    state2 = [Equals(curr['pc'], Int(0)),\n",
    "             bitVecIntComp(curr['y'], 0, \"LE\"),\n",
    "             Equals(prox['y'], curr['y']),\n",
    "             Equals(prox['m'], curr['m']),\n",
    "             Equals(prox['r'],  curr['r']),\n",
    "             Equals(prox['x'], curr['x']),\n",
    "             Equals(prox['n'], curr['n']),\n",
    "             Equals(prox['pc'], Int(3))]\n",
    "    l.append(And(state2))\n",
    "\n",
    "    state3 = [Equals(curr['pc'], Int(1)),\n",
    "             Equals(BVAnd(curr['y'], BVOne(word_len)), BVOne(word_len)),\n",
    "             Equals(prox['y'], BVSub(curr['y'], BVOne(word_len))),\n",
    "             Equals(prox['r'],  BVAdd(curr['r'], curr['x'])),\n",
    "             Equals(prox['x'], curr['x']),\n",
    "             Equals(prox['m'], curr['m']),\n",
    "             Equals(prox['n'], curr['n']),\n",
    "             Equals(prox['pc'], Int(2))]\n",
    "    l.append(And(state3))\n",
    "\n",
    "    state4 = [Equals(curr['pc'], Int(1)),\n",
    "              NotEquals(BVAnd(curr['y'], BVOne(word_len)), BVOne(word_len)),\n",
    "              Equals(prox['y'], curr['y']),\n",
    "              Equals(prox['r'], curr['r']),\n",
    "              Equals(prox['x'], curr['x']),\n",
    "              Equals(prox['m'], curr['m']),\n",
    "              Equals(prox['n'], curr['n']),\n",
    "              Equals(prox['pc'], Int(2))]\n",
    "    l.append(And(state4))\n",
    "\n",
    "    state5 = [Equals(curr['pc'], Int(2)),\n",
    "              Equals(prox['x'], BVLShl(curr['x'], BVOne(word_len))),\n",
    "              Equals(prox['y'], BVLShr(curr['y'], BVOne(word_len))),\n",
    "              Equals(prox['m'], curr['m']),\n",
    "              Equals(prox['n'], curr['n']),\n",
    "              Equals(prox['r'], curr['r']),\n",
    "              Equals(prox['pc'], Int(0))]\n",
    "    l.append(And(state5))\n",
    "\n",
    "    state6 = [Equals(curr['pc'], Int(3)),\n",
    "              Equals(prox['y'], curr['y']),\n",
    "              Equals(prox['m'], curr['m']),\n",
    "              Equals(prox['r'], curr['r']),\n",
    "              Equals(prox['x'], curr['x']),\n",
    "              Equals(prox['n'], curr['n']),\n",
    "              Equals(prox['pc'], Int(3))]\n",
    "    l.append(And(state6))\n",
    "    \n",
    "    return Or(l)"
   ]
  },
  {
   "cell_type": "markdown",
   "metadata": {},
   "source": [
    "### Geração de traço de execução\n",
    "\n",
    "Como se viu nas aulas Teórico-Práticas, a função abaixo gera um traço de execução do FOTS."
   ]
  },
  {
   "cell_type": "code",
   "execution_count": 14,
   "metadata": {},
   "outputs": [
    {
     "name": "stdout",
     "output_type": "stream",
     "text": [
      "state 0:\n",
      "x  =  9377_16\n",
      "y  =  0_16\n",
      "r  =  0_16\n",
      "m  =  9377_16\n",
      "n  =  0_16\n",
      "pc  =  0\n",
      "state 1:\n",
      "x  =  9377_16\n",
      "y  =  0_16\n",
      "r  =  0_16\n",
      "m  =  9377_16\n",
      "n  =  0_16\n",
      "pc  =  3\n",
      "state 2:\n",
      "x  =  9377_16\n",
      "y  =  0_16\n",
      "r  =  0_16\n",
      "m  =  9377_16\n",
      "n  =  0_16\n",
      "pc  =  3\n",
      "state 3:\n",
      "x  =  9377_16\n",
      "y  =  0_16\n",
      "r  =  0_16\n",
      "m  =  9377_16\n",
      "n  =  0_16\n",
      "pc  =  3\n",
      "state 4:\n",
      "x  =  9377_16\n",
      "y  =  0_16\n",
      "r  =  0_16\n",
      "m  =  9377_16\n",
      "n  =  0_16\n",
      "pc  =  3\n",
      "state 5:\n",
      "x  =  9377_16\n",
      "y  =  0_16\n",
      "r  =  0_16\n",
      "m  =  9377_16\n",
      "n  =  0_16\n",
      "pc  =  3\n",
      "state 6:\n",
      "x  =  9377_16\n",
      "y  =  0_16\n",
      "r  =  0_16\n",
      "m  =  9377_16\n",
      "n  =  0_16\n",
      "pc  =  3\n",
      "state 7:\n",
      "x  =  9377_16\n",
      "y  =  0_16\n",
      "r  =  0_16\n",
      "m  =  9377_16\n",
      "n  =  0_16\n",
      "pc  =  3\n",
      "state 8:\n",
      "x  =  9377_16\n",
      "y  =  0_16\n",
      "r  =  0_16\n",
      "m  =  9377_16\n",
      "n  =  0_16\n",
      "pc  =  3\n",
      "state 9:\n",
      "x  =  9377_16\n",
      "y  =  0_16\n",
      "r  =  0_16\n",
      "m  =  9377_16\n",
      "n  =  0_16\n",
      "pc  =  3\n",
      "state 10:\n",
      "x  =  9377_16\n",
      "y  =  0_16\n",
      "r  =  0_16\n",
      "m  =  9377_16\n",
      "n  =  0_16\n",
      "pc  =  3\n",
      "state 11:\n",
      "x  =  9377_16\n",
      "y  =  0_16\n",
      "r  =  0_16\n",
      "m  =  9377_16\n",
      "n  =  0_16\n",
      "pc  =  3\n",
      "state 12:\n",
      "x  =  9377_16\n",
      "y  =  0_16\n",
      "r  =  0_16\n",
      "m  =  9377_16\n",
      "n  =  0_16\n",
      "pc  =  3\n",
      "state 13:\n",
      "x  =  9377_16\n",
      "y  =  0_16\n",
      "r  =  0_16\n",
      "m  =  9377_16\n",
      "n  =  0_16\n",
      "pc  =  3\n",
      "state 14:\n",
      "x  =  9377_16\n",
      "y  =  0_16\n",
      "r  =  0_16\n",
      "m  =  9377_16\n",
      "n  =  0_16\n",
      "pc  =  3\n",
      "state 15:\n",
      "x  =  9377_16\n",
      "y  =  0_16\n",
      "r  =  0_16\n",
      "m  =  9377_16\n",
      "n  =  0_16\n",
      "pc  =  3\n",
      "state 16:\n",
      "x  =  9377_16\n",
      "y  =  0_16\n",
      "r  =  0_16\n",
      "m  =  9377_16\n",
      "n  =  0_16\n",
      "pc  =  3\n",
      "state 17:\n",
      "x  =  9377_16\n",
      "y  =  0_16\n",
      "r  =  0_16\n",
      "m  =  9377_16\n",
      "n  =  0_16\n",
      "pc  =  3\n",
      "state 18:\n",
      "x  =  9377_16\n",
      "y  =  0_16\n",
      "r  =  0_16\n",
      "m  =  9377_16\n",
      "n  =  0_16\n",
      "pc  =  3\n",
      "state 19:\n",
      "x  =  9377_16\n",
      "y  =  0_16\n",
      "r  =  0_16\n",
      "m  =  9377_16\n",
      "n  =  0_16\n",
      "pc  =  3\n"
     ]
    }
   ],
   "source": [
    "def gera_traco(declare,init,trans,k):\n",
    "    trace = [declare(i) for i in range(k)]\n",
    "    s = Solver(name = 'z3')\n",
    "    s.reset_assertions()\n",
    "\n",
    "    s.add_assertion(init(trace[0]))\n",
    "\n",
    "    for i in range(k-1):\n",
    "        s.add_assertion(trans(trace[i], trace[i + 1]))\n",
    "\n",
    "    r = s.solve()\n",
    "    if r: # s is SAT\n",
    "        m = s.get_model()\n",
    "        for i in range(k):\n",
    "            print(f\"state {i}:\")\n",
    "            for v in trace[i]:\n",
    "                print(v, ' = ', s.get_value(trace[i][v]))\n",
    "        return\n",
    "    \n",
    "    print('UNSAT!')\n",
    "    return\n",
    "\n",
    "gera_traco(declare, init, trans, 20)"
   ]
  },
  {
   "cell_type": "markdown",
   "metadata": {},
   "source": [
    "### Prova de terminação do programa\n",
    "\n",
    "Utilize-se $k$-lookahead para provar a terminação do programa acima, que é uma propriedade da forma $F (G\\ \\phi)$, onde $\\phi \\equiv pc = 3$.\n",
    "  \n",
    "É necessário encontrar um variante $V$ que satisfaça as seguintes condições, descritas na folha de exercícios 7 das aulas Teórica-Práticas:\n",
    "\n",
    "1. O variante é positivo ou nulo: $G\\ (V(s) \\ge 0)$\n",
    "2. O variante é estritamente decrescente, ou atinge o valor 0, ou seja,\n",
    "  * $G\\ (\\forall s'\\ .\\ \\mathit{trans}(s,\\ s') \\rightarrow (V(s') < V(s) \\lor V(s') = 0))$\n",
    "3. Quando o variante é 0 verifica-se necessariamente $\\phi$, ou seja, $G\\ (V(s)=0 \\rightarrow \\phi(s))$\n",
    "\n",
    "Considerando-se o uso de $k$-lookahead, a $2º$ condição pode ser alargada, permitindo-se que o variante decresça necessariamente de $3$ em $3$ transições, e não necessariamente em transições consecutivas.\n",
    "\n",
    "#### *Lookahead*\n",
    "  \n",
    "O lookahead em causa é de $3$, que é o número mínimo de instruções necessárias para que $pc$ vá do [início ao fim do ciclo](#python-anotado).\n",
    "\n",
    "---\n",
    "\n",
    "Utilize-se o seguinte variante:\n",
    "\n",
    "$$\n",
    "V(s) \\equiv (y_{s} - pc_{s}) + 3\n",
    "$$"
   ]
  },
  {
   "cell_type": "markdown",
   "metadata": {},
   "source": [
    "#### Função para $k$-indução, e definição do variante:"
   ]
  },
  {
   "cell_type": "code",
   "execution_count": 41,
   "metadata": {},
   "outputs": [],
   "source": [
    "def variante(state):\n",
    "    return Plus(Minus(BVToNatural(state['y']), state['pc']), Int(3))"
   ]
  },
  {
   "cell_type": "code",
   "execution_count": 54,
   "metadata": {},
   "outputs": [],
   "source": [
    "def kinduction_always(declare, init, trans, inv, k):\n",
    "    trace = [declare(i) for i in range(k + 1)]\n",
    "    with Portfolio([\"z3\"],\n",
    "               logic=\"QF_BV\",\n",
    "               incremental=False,\n",
    "               generate_models=False) as s:\n",
    "        s.reset_assertions()\n",
    "        s.add_assertion(init(trace[0]))\n",
    "        for i in range(k - 1):\n",
    "            s.add_assertion(trans(trace[i],trace[i + 1]))\n",
    "\n",
    "        l = [Not(inv(trace[i])) for i in range(k)]\n",
    "\n",
    "        s.add_assertion(Or(l))\n",
    "\n",
    "        r = s.solve()\n",
    "\n",
    "        if r:\n",
    "            print('A prova por k-indução falhou no caso base:')\n",
    "            print('O estado do FOTS que causou a falha:')\n",
    "            m = s.get_model()\n",
    "            for i in range(k):\n",
    "                print(i)\n",
    "                for v in trace[i]:\n",
    "                    print(v, ' = ', m[trace[i][v]])\n",
    "            return\n",
    "\n",
    "        s.reset_assertions()\n",
    "        for i in range(k):\n",
    "            s.add_assertion(trans(trace[i],trace[i + 1]))\n",
    "            s.add_assertion(inv(trace[i]))\n",
    "        s.add_assertion(Not(inv(trace[k])))\n",
    "\n",
    "        r = s.solve()\n",
    "\n",
    "        if r:\n",
    "            print(f'Falhou no passo de {k}-indução!')\n",
    "            m = s.get_model()\n",
    "            for i in range(k):\n",
    "                print(i)\n",
    "                for v in trace[i]:\n",
    "                    print(v, ' = ', m[trace[i][v]])\n",
    "            return\n",
    "\n",
    "        if not r:\n",
    "            print(f'Verifica-se a propriedade {inv}')\n",
    "            return"
   ]
  },
  {
   "cell_type": "markdown",
   "metadata": {},
   "source": [
    "---"
   ]
  },
  {
   "cell_type": "markdown",
   "metadata": {},
   "source": [
    "Primeiro, prove-se a propriedade 1.: $V$ é sempre positivo:"
   ]
  },
  {
   "cell_type": "code",
   "execution_count": 55,
   "metadata": {},
   "outputs": [
    {
     "name": "stdout",
     "output_type": "stream",
     "text": [
      "Verifica-se a propriedade <function positivo at 0x0000028C13B23AF0>\n"
     ]
    }
   ],
   "source": [
    "def positivo(state):\n",
    "    prop = GE(variante(state), Int(0))\n",
    "    return prop\n",
    "\n",
    "kinduction_always(declare, init, trans, positivo, 3)"
   ]
  },
  {
   "cell_type": "markdown",
   "metadata": {},
   "source": [
    "---\n",
    "Agora, a segunda condição:"
   ]
  },
  {
   "cell_type": "code",
   "execution_count": 56,
   "metadata": {},
   "outputs": [
    {
     "name": "stdout",
     "output_type": "stream",
     "text": [
      "Verifica-se a propriedade <function decresce at 0x0000028C16AE34C0>\n"
     ]
    }
   ],
   "source": [
    "def decresce(state):\n",
    "    state1 = declare(-1)\n",
    "    state2 = declare(-2)\n",
    "    state3 = declare(-3)\n",
    "    varnames = list(state1.values()) + list(state2.values()) + list(state3.values())\n",
    "\n",
    "    return ForAll(\n",
    "        varnames,\n",
    "        Implies(\n",
    "            And(trans(state, state1),\n",
    "                trans(state1, state2),\n",
    "                trans(state2, state3)\n",
    "            ),\n",
    "            Or(LT(variante(state3), variante(state)),\n",
    "               Equals(variante(state3), Int(0))\n",
    "            )\n",
    "        )\n",
    "    )\n",
    "\n",
    "kinduction_always(declare, init, trans, decresce, 3)"
   ]
  },
  {
   "cell_type": "markdown",
   "metadata": {},
   "source": [
    "---\n",
    "Finalmente, a terceira condição: que o variante ser zero implica a chegada à última instrução:"
   ]
  },
  {
   "cell_type": "code",
   "execution_count": 57,
   "metadata": {},
   "outputs": [
    {
     "name": "stdout",
     "output_type": "stream",
     "text": [
      "Verifica-se a propriedade <function terminaçao at 0x0000028C16AE3430>\n"
     ]
    }
   ],
   "source": [
    "def terminaçao(state):\n",
    "    return Implies(Equals(variante(state), Int(0)), Equals(state['pc'], Int(3)))\n",
    "\n",
    "kinduction_always(declare, init, trans, terminaçao, 4)"
   ]
  },
  {
   "cell_type": "markdown",
   "metadata": {},
   "source": [
    "# Misc"
   ]
  },
  {
   "cell_type": "code",
   "execution_count": 26,
   "metadata": {},
   "outputs": [],
   "source": [
    "def test():\n",
    "    solver =  Solver()\n",
    "    a = Symbol('a', BVType(16))\n",
    "    b = Symbol('b', BVType(16))\n",
    "    solver.add_assertion(GE(BVToNatural(BVAdd(a, b)), Int(56)))\n",
    "    solver.add_assertion(Equals(BVAnd(a, BVOne(word_len)), BVSub(SBV(1, word_len), SBV(-1, word_len))))\n",
    "    solver.add_assertion(Not(Equals(a, SBV(0, word_len))))\n",
    "    # assertion 1: a = b\n",
    "    res = solver.solve() # SAT (res == True)\n",
    "    if res:\n",
    "        print(solver.get_model())\n",
    "        print('value a: {}'.format(solver.get_value(a)))\n",
    "        print('value b: {}'.format(solver.get_value(b)))\n",
    "test()"
   ]
  },
  {
   "cell_type": "code",
   "execution_count": 27,
   "metadata": {},
   "outputs": [
    {
     "name": "stdout",
     "output_type": "stream",
     "text": [
      "a := 63292_16\n",
      "value a: 63292_16\n",
      "value b: 0_16\n"
     ]
    }
   ],
   "source": [
    "def test2():\n",
    "    solver =  Solver()\n",
    "    a = Symbol('a', BVType(16))\n",
    "    b = Symbol('b', BVType(16))\n",
    "    solver.add_assertion(Equals(BVSub(a, SBV(-1, word_len)), SBV(-2243, word_len)))\n",
    "    # assertion 1: a = b\n",
    "    res = solver.solve() # SAT (res == True)\n",
    "    if res:\n",
    "        print(solver.get_model())\n",
    "        print('value a: {}'.format(solver.get_value(a)))\n",
    "        print('value b: {}'.format(solver.get_value(b)))\n",
    "test2()"
   ]
  },
  {
   "cell_type": "code",
   "execution_count": 28,
   "metadata": {},
   "outputs": [
    {
     "name": "stdout",
     "output_type": "stream",
     "text": [
      "z := 1\n",
      "y := -1\n",
      "x := 4353454\n"
     ]
    }
   ],
   "source": [
    "def test3():\n",
    "    solver =  Solver()\n",
    "    x = Symbol('x', INT)\n",
    "    y = Symbol('y', INT)\n",
    "    z = Symbol('z', INT)\n",
    "    solver.add_assertion(Equals(x + y - z, Int(4353452)))\n",
    "    solver.add_assertion(NotEquals(x, Int(0)))\n",
    "    solver.add_assertion(NotEquals(y, Int(0)))\n",
    "    solver.add_assertion(NotEquals(z, Int(0)))\n",
    "    # assertion 1: a = b\n",
    "    res = solver.solve() # SAT (res == True)\n",
    "    if res:\n",
    "        print(solver.get_model())\n",
    "test3()"
   ]
  },
  {
   "cell_type": "code",
   "execution_count": 64,
   "metadata": {},
   "outputs": [
    {
     "name": "stdout",
     "output_type": "stream",
     "text": [
      "z := -1\n",
      "y := -2\n",
      "x := 123392756\n"
     ]
    }
   ],
   "source": [
    "def test4():\n",
    "    solver =  Solver()\n",
    "    solver.reset_assertions()\n",
    "    x = Symbol('x', INT)\n",
    "    y = Symbol('y', INT)\n",
    "    z = Symbol('z', INT)\n",
    "    solver.add_assertion(Equals(Plus(Plus(x, y), z), Int(123392753)))\n",
    "    solver.add_assertion(NotEquals(x, Int(0)))\n",
    "    solver.add_assertion(NotEquals(y, Int(0)))\n",
    "    solver.add_assertion(NotEquals(z, Int(0)))\n",
    "    solver.add_assertion(Not(Equals(x, y)))\n",
    "    solver.add_assertion(Not(Equals(y, z)))\n",
    "    solver.add_assertion(Not(Equals(x, z)))\n",
    "    # assertion 1: a = b\n",
    "    res = solver.solve() # SAT (res == True)\n",
    "    if res:\n",
    "        print(solver.get_model())\n",
    "test4()"
   ]
  },
  {
   "cell_type": "code",
   "execution_count": 42,
   "metadata": {},
   "outputs": [
    {
     "name": "stdout",
     "output_type": "stream",
     "text": [
      "a := 1_16\n",
      "value a: 1_16\n"
     ]
    }
   ],
   "source": [
    "def test5():\n",
    "    solver =  Solver()\n",
    "    a = Symbol('a', BVType(16))\n",
    "    solver.add_assertion(NotEquals(a, BVZero(word_len)))\n",
    "    solver.add_assertion(NotEquals(a, BV(65535, word_len)))\n",
    "    prop = ForAll([a], Implies(NotEquals(a, BVZero(word_len)), NotEquals(BVToNatural(a), Int(0))))\n",
    "    solver.add_assertion(prop)\n",
    "    res = solver.solve() # SAT (res == True)\n",
    "    if res:\n",
    "        print(solver.get_model())\n",
    "        print('value a: {}'.format(solver.get_value(a)))\n",
    "    else:\n",
    "        print(\"Unsat!\")\n",
    "test5()"
   ]
  }
 ],
 "metadata": {
  "interpreter": {
   "hash": "b3ba2566441a7c06988d0923437866b63cedc61552a5af99d1f4fb67d367b25f"
  },
  "kernelspec": {
   "display_name": "Python 3.8.11 64-bit ('base': conda)",
   "language": "python",
   "name": "python3"
  },
  "language_info": {
   "codemirror_mode": {
    "name": "ipython",
    "version": 3
   },
   "file_extension": ".py",
   "mimetype": "text/x-python",
   "name": "python",
   "nbconvert_exporter": "python",
   "pygments_lexer": "ipython3",
   "version": "3.8.11"
  },
  "orig_nbformat": 4
 },
 "nbformat": 4,
 "nbformat_minor": 2
}
