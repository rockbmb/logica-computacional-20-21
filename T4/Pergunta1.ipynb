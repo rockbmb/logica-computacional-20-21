{
 "cells": [
  {
   "cell_type": "markdown",
   "metadata": {},
   "source": [
    "# Lógica Computacional 21/22\n",
    "\n",
    "## Trabalho Prático 4\n",
    "\n",
    "ID: Pergunta 1 - Grupo 1\n",
    "\n",
    "Equipa:\n",
    "\n",
    "1. Alef Keuffer (A91683)\n",
    "2. Alexandre Rodrigues Baldé (A70373)\n",
    "\n",
    "## Preparação do código\n",
    "\n",
    "### Dependências"
   ]
  },
  {
   "cell_type": "code",
   "execution_count": 29,
   "metadata": {},
   "outputs": [
    {
     "name": "stdout",
     "output_type": "stream",
     "text": [
      "Defaulting to user installation because normal site-packages is not writeable\n",
      "Requirement already satisfied: pysmt in /home/alexa_wsl/.local/lib/python3.10/site-packages (0.9.0)\n",
      "Requirement already satisfied: six in /home/alexa_wsl/.local/lib/python3.10/site-packages (from pysmt) (1.16.0)\n",
      "Note: you may need to restart the kernel to use updated packages.\n"
     ]
    }
   ],
   "source": [
    "%pip install pysmt\n",
    "\n",
    "from pysmt.shortcuts import *\n",
    "from pysmt.typing import *"
   ]
  },
  {
   "cell_type": "markdown",
   "metadata": {},
   "source": [
    "# Enunciado do problema"
   ]
  },
  {
   "cell_type": "markdown",
   "metadata": {},
   "source": [
    "#### Python Anotado"
   ]
  },
  {
   "cell_type": "markdown",
   "metadata": {},
   "source": [
    "Considere o seguinte programa, em Python anotado, para multiplicação de dois inteiros de precisão limitada a 16 bits."
   ]
  },
  {
   "cell_type": "markdown",
   "metadata": {},
   "source": [
    "```python\n",
    "        assume m >= 0 and n >= 0 and r == 0 and x == m and y == n \n",
    "    0: while y > 0:\n",
    "    1:    if y & 1 == 1: \n",
    "                y , r  = y-1 , r+x\n",
    "    2:    x , y = x<<1  ,  y>>1\n",
    "    3: assert r == m * n\n",
    "```"
   ]
  },
  {
   "cell_type": "markdown",
   "metadata": {},
   "source": [
    "1. Prove por indução a terminação deste programa\n",
    "$$\\,$$\n",
    "2. Pretende-se verificar a correção total deste  programa usando a metodologia dos invariantes e a metodologia do “single assignment unfolding”. Para isso, \n",
    "    1. Codifique usando a LPA (linguagem de programas anotadas) a forma recursiva deste programa. \n",
    "    2. Proponha o invariante mais fraco que assegure a correção, codifique-o em SMT e prove a correção.\n",
    "    3. Construa a definição iterativa do “single assignment unfolding”  usando um parâmetro limite $$\\,N\\,$$  e aumentando a pré-condição com a condição \n",
    "                                            $$(n < N)\\,\\land\\,(m<N)$$\n",
    "        O número de iterações vai ser controlado por este parâmetro $$N$$"
   ]
  },
  {
   "cell_type": "markdown",
   "metadata": {},
   "source": [
    "# Pergunta 1"
   ]
  },
  {
   "cell_type": "markdown",
   "metadata": {},
   "source": [
    "## FOTS para o programa anotado"
   ]
  },
  {
   "cell_type": "markdown",
   "metadata": {},
   "source": [
    "Construa-se um FOTS que modela o programa anotado do enunciado, de forma a utilizar-se $k$-indução para provar a sua terminação.\n",
    "  \n",
    "Considerem-se as variáveis $x,y,r,m,n$ parte do FOTS, assim como uma variável $pc$ que indica a que instrução em que a execução do programa está num dado momento.\n",
    "  \n",
    "Defina-se agora a função que declara as variáveis do FOTS:"
   ]
  },
  {
   "cell_type": "markdown",
   "metadata": {},
   "source": [
    "### Variáveis e estado inicial do FOTS"
   ]
  },
  {
   "cell_type": "code",
   "execution_count": 30,
   "metadata": {},
   "outputs": [],
   "source": [
    "word_len = 16\n",
    "\n",
    "BV16 = BVType(word_len)\n",
    "\n",
    "def declare(i):\n",
    "    state = {}\n",
    "    \n",
    "    state['x'] = Symbol('x'+str(i), BV16)\n",
    "    state['y'] = Symbol('y'+str(i), BV16)\n",
    "    state['r'] = Symbol('r'+str(i), BV16)\n",
    "    state['m'] = Symbol('m'+str(i), BV16)\n",
    "    state['n'] = Symbol('n'+str(i), BV16)\n",
    "    state['pc'] = Symbol('pc'+str(i), INT)\n",
    "    \n",
    "    return state"
   ]
  },
  {
   "cell_type": "markdown",
   "metadata": {},
   "source": [
    "---\n",
    "#### Funções auxiliares\n",
    "\n",
    "O PySMT não permite comparação entre vetores de bits e inteiros, logo a função abaixo é necessária para o fazer."
   ]
  },
  {
   "cell_type": "code",
   "execution_count": 31,
   "metadata": {},
   "outputs": [],
   "source": [
    "def bitVecIntComp(vec, i, bin_op, size = word_len):\n",
    "    intVec = BV(i, size)\n",
    "    if i == 0:\n",
    "        intVec = BVZero(size)\n",
    "    elif i == 1:\n",
    "        intVec = BVOne(size)\n",
    "    if bin_op == \"EQ\":\n",
    "        return Equals(vec, intVec)\n",
    "    elif bin_op == \"NEQ\":\n",
    "        return Equals(vec, intVec)\n",
    "    elif bin_op == \"GT\":\n",
    "        return BVUGT(vec, intVec)\n",
    "    elif bin_op == \"GE\":\n",
    "        return BVUGE(vec, intVec)\n",
    "    elif bin_op == \"LT\":\n",
    "        return BVULT(vec, intVec)\n",
    "    elif bin_op == \"LE\":\n",
    "        return BVULE(vec, intVec)\n",
    "    raise ValueError(\"Wrong operator supplied to helper function bitVecIntComp!\")"
   ]
  },
  {
   "cell_type": "markdown",
   "metadata": {},
   "source": [
    "---"
   ]
  },
  {
   "cell_type": "markdown",
   "metadata": {},
   "source": [
    "O predicado que define o estado inicial do FOTS é\n",
    "\n",
    "$$\n",
    "pc = 0 \\land m \\ge 0 \\land n \\ge 0 \\land r = 0 \\land x = m \\land y = n \n",
    "$$\n",
    "\n",
    "Este predicado deriva da pre-condição do programa.\n",
    "  \n",
    "Note-se que, para resolver este problema, se consideram $m, n \\ge 0$, ou seja, está-se a trabalhar no anel $\\mathbb{Z}_{2^{16}}$, e havendo overflow, interpreta-se o resultado dessa forma."
   ]
  },
  {
   "cell_type": "code",
   "execution_count": 32,
   "metadata": {},
   "outputs": [],
   "source": [
    "def init(state):\n",
    "    l = []\n",
    "\n",
    "    l.append(bitVecIntComp(state['m'], 0, \"GE\"))\n",
    "    l.append(bitVecIntComp(state['n'], 0, \"GE\"))\n",
    "    l.append(bitVecIntComp(state['r'], 0, \"EQ\"))\n",
    "    l.append(Equals(state['x'], state['m']))\n",
    "    l.append(Equals(state['y'], state['n']))\n",
    "    l.append(Equals(state['pc'], Int(0)))\n",
    "\n",
    "    return And(l)"
   ]
  },
  {
   "cell_type": "markdown",
   "metadata": {},
   "source": [
    "### Função de transição"
   ]
  },
  {
   "cell_type": "markdown",
   "metadata": {},
   "source": [
    "#### $pc = 0$\n",
    "Quando a variável $pc$ tem o valor $0$, o programa está no ciclo, e há duas possibilidades:\n",
    "  - permanecer dentro do ciclo caso a condição seja verdadeira, ou\n",
    "  - transitar para o fim do programa caso a condição seja falsa.\n",
    "\n",
    "Isto corresponde aos predicados:\n",
    "\n",
    "* $pc = 0 \\land y \\gt 0 \\land y' = y \\land m' = m \\land r' = r \\land x' = x \\land n' = n \\land pc'= 1$\n",
    "  \n",
    "e\n",
    "  \n",
    "* $pc = 0 \\land y \\le 0 \\land y' = y \\land m' = m \\land r' = r \\land x' = x \\land n' = n \\land pc' = 3$\n",
    "\n",
    "---\n",
    "\n",
    "#### $pc = 1$\n",
    "Quando o valor de $pc$ é $1$, entrou-se dentro do ciclo.\\\n",
    "A próxima instrução é um `if_then_else`, donde:\n",
    "* a condição é verdadeira e as variáveis $y$ e $r$ são alteradas, ou então\n",
    "* a condição é falsa e as variáveis $y$ e $r$ não são alteradas.\n",
    "  \n",
    "Daqui, os seguintes predicados:\n",
    "\n",
    "*\n",
    "$$\n",
    "pc = 1 \\land \\quad y \\& 1 = 1 \\quad \\land \\quad y' = y - 1 \\quad \\land \\quad m' = m \\quad \\land \\quad r' = r + x \\quad \\land \n",
    "$$\n",
    "\n",
    "$$\n",
    "\\quad x' = x \\quad \\land \\quad n' = n \\quad \\land \\quad pc' = 2\n",
    "$$\n",
    "  \n",
    "e\n",
    "  \n",
    "*\n",
    "$$\n",
    "pc = 1 \\quad \\land \\quad \\neg(y \\quad \\& \\quad 1 = 1) \\quad \\land \\quad y' = y \\quad \\land \\quad m' = m \\quad \\land \\quad r' = r \\quad \\land \n",
    "$$\n",
    "$$ \n",
    "\\quad x' = x \\quad \\land \\quad n' = n \\quad \\land \\quad pc' = 2\n",
    "$$\n",
    "\n",
    "---\n",
    "\n",
    "#### $pc = 2$\n",
    "Quando $pc = 2$, termina-se a execução do corpo do ciclo, e volta-se a $pc = 0$, para re-executar o ciclo se a condição se verificar.\n",
    "\n",
    "$$\n",
    "pc = 2 \\land y' = y >> 1 \\land m' = m \\land r' = r \\land x' = x << 1 \\land n' = n \\land pc' = 0\n",
    "$$\n",
    "\n",
    "---\n",
    "\n",
    "#### $pc = 3$\n",
    "Este caso correspondo à transição do estado final para ele próprio:\n",
    "\n",
    "$$\n",
    "pc = 3 \\land y' = y \\land m' = m \\land r' = r \\land x' = x \\land n' = n \\land pc' = 3\n",
    "$$"
   ]
  },
  {
   "cell_type": "markdown",
   "metadata": {},
   "source": [
    "Note-se o uso da função `bitVecIntComp` para fazer as comparações entre `INT`s de PySMT e `BVType(16)`."
   ]
  },
  {
   "cell_type": "code",
   "execution_count": 33,
   "metadata": {},
   "outputs": [],
   "source": [
    "def trans(curr, prox):\n",
    "    l = []\n",
    "\n",
    "    state1 = [Equals(curr['pc'], Int(0)),\n",
    "              bitVecIntComp(curr['y'], 0, \"GT\"),\n",
    "              Equals(prox['y'], curr['y']),\n",
    "              Equals(prox['m'], curr['m']),\n",
    "              Equals(prox['r'],  curr['r']),\n",
    "              Equals(prox['x'], curr['x']),\n",
    "              Equals(prox['n'], curr['n']),\n",
    "              Equals(prox['pc'], Int(1))]\n",
    "    l.append(And(state1))\n",
    "\n",
    "    state2 = [Equals(curr['pc'], Int(0)),\n",
    "             bitVecIntComp(curr['y'], 0, \"LE\"),\n",
    "             Equals(prox['y'], curr['y']),\n",
    "             Equals(prox['m'], curr['m']),\n",
    "             Equals(prox['r'],  curr['r']),\n",
    "             Equals(prox['x'], curr['x']),\n",
    "             Equals(prox['n'], curr['n']),\n",
    "             Equals(prox['pc'], Int(3))]\n",
    "    l.append(And(state2))\n",
    "\n",
    "    state3 = [Equals(curr['pc'], Int(1)),\n",
    "             Equals(BVAnd(curr['y'], BVOne(word_len)), BVOne(word_len)),\n",
    "             Equals(prox['y'], BVSub(curr['y'], BVOne(word_len))),\n",
    "             Equals(prox['r'],  BVAdd(curr['r'], curr['x'])),\n",
    "             Equals(prox['x'], curr['x']),\n",
    "             Equals(prox['m'], curr['m']),\n",
    "             Equals(prox['n'], curr['n']),\n",
    "             Equals(prox['pc'], Int(2))]\n",
    "    l.append(And(state3))\n",
    "\n",
    "    state4 = [Equals(curr['pc'], Int(1)),\n",
    "              NotEquals(BVAnd(curr['y'], BVOne(word_len)), BVOne(word_len)),\n",
    "              Equals(prox['y'], curr['y']),\n",
    "              Equals(prox['r'], curr['r']),\n",
    "              Equals(prox['x'], curr['x']),\n",
    "              Equals(prox['m'], curr['m']),\n",
    "              Equals(prox['n'], curr['n']),\n",
    "              Equals(prox['pc'], Int(2))]\n",
    "    l.append(And(state4))\n",
    "\n",
    "    state5 = [Equals(curr['pc'], Int(2)),\n",
    "              Equals(prox['x'], BVLShl(curr['x'], BVOne(word_len))),\n",
    "              Equals(prox['y'], BVLShr(curr['y'], BVOne(word_len))),\n",
    "              Equals(prox['m'], curr['m']),\n",
    "              Equals(prox['n'], curr['n']),\n",
    "              Equals(prox['r'], curr['r']),\n",
    "              Equals(prox['pc'], Int(0))]\n",
    "    l.append(And(state5))\n",
    "\n",
    "    state6 = [Equals(curr['pc'], Int(3)),\n",
    "              Equals(prox['y'], curr['y']),\n",
    "              Equals(prox['m'], curr['m']),\n",
    "              Equals(prox['r'], curr['r']),\n",
    "              Equals(prox['x'], curr['x']),\n",
    "              Equals(prox['n'], curr['n']),\n",
    "              Equals(prox['pc'], Int(3))]\n",
    "    l.append(And(state6))\n",
    "    \n",
    "    return Or(l)"
   ]
  },
  {
   "cell_type": "markdown",
   "metadata": {},
   "source": [
    "### Geração de traço de execução\n",
    "\n",
    "Como se viu nas aulas Teórico-Práticas, a função abaixo gera um traço de execução do FOTS."
   ]
  },
  {
   "cell_type": "code",
   "execution_count": 34,
   "metadata": {},
   "outputs": [
    {
     "name": "stdout",
     "output_type": "stream",
     "text": [
      "state 0:\n",
      "x  =  256_16\n",
      "y  =  55_16\n",
      "r  =  0_16\n",
      "m  =  256_16\n",
      "n  =  55_16\n",
      "pc  =  0\n",
      "state 1:\n",
      "x  =  256_16\n",
      "y  =  55_16\n",
      "r  =  0_16\n",
      "m  =  256_16\n",
      "n  =  55_16\n",
      "pc  =  1\n",
      "state 2:\n",
      "x  =  256_16\n",
      "y  =  54_16\n",
      "r  =  256_16\n",
      "m  =  256_16\n",
      "n  =  55_16\n",
      "pc  =  2\n",
      "state 3:\n",
      "x  =  512_16\n",
      "y  =  27_16\n",
      "r  =  256_16\n",
      "m  =  256_16\n",
      "n  =  55_16\n",
      "pc  =  0\n",
      "state 4:\n",
      "x  =  512_16\n",
      "y  =  27_16\n",
      "r  =  256_16\n",
      "m  =  256_16\n",
      "n  =  55_16\n",
      "pc  =  1\n",
      "state 5:\n",
      "x  =  512_16\n",
      "y  =  26_16\n",
      "r  =  768_16\n",
      "m  =  256_16\n",
      "n  =  55_16\n",
      "pc  =  2\n",
      "state 6:\n",
      "x  =  1024_16\n",
      "y  =  13_16\n",
      "r  =  768_16\n",
      "m  =  256_16\n",
      "n  =  55_16\n",
      "pc  =  0\n",
      "state 7:\n",
      "x  =  1024_16\n",
      "y  =  13_16\n",
      "r  =  768_16\n",
      "m  =  256_16\n",
      "n  =  55_16\n",
      "pc  =  1\n",
      "state 8:\n",
      "x  =  1024_16\n",
      "y  =  12_16\n",
      "r  =  1792_16\n",
      "m  =  256_16\n",
      "n  =  55_16\n",
      "pc  =  2\n",
      "state 9:\n",
      "x  =  2048_16\n",
      "y  =  6_16\n",
      "r  =  1792_16\n",
      "m  =  256_16\n",
      "n  =  55_16\n",
      "pc  =  0\n",
      "state 10:\n",
      "x  =  2048_16\n",
      "y  =  6_16\n",
      "r  =  1792_16\n",
      "m  =  256_16\n",
      "n  =  55_16\n",
      "pc  =  1\n",
      "state 11:\n",
      "x  =  2048_16\n",
      "y  =  6_16\n",
      "r  =  1792_16\n",
      "m  =  256_16\n",
      "n  =  55_16\n",
      "pc  =  2\n",
      "state 12:\n",
      "x  =  4096_16\n",
      "y  =  3_16\n",
      "r  =  1792_16\n",
      "m  =  256_16\n",
      "n  =  55_16\n",
      "pc  =  0\n",
      "state 13:\n",
      "x  =  4096_16\n",
      "y  =  3_16\n",
      "r  =  1792_16\n",
      "m  =  256_16\n",
      "n  =  55_16\n",
      "pc  =  1\n",
      "state 14:\n",
      "x  =  4096_16\n",
      "y  =  2_16\n",
      "r  =  5888_16\n",
      "m  =  256_16\n",
      "n  =  55_16\n",
      "pc  =  2\n",
      "state 15:\n",
      "x  =  8192_16\n",
      "y  =  1_16\n",
      "r  =  5888_16\n",
      "m  =  256_16\n",
      "n  =  55_16\n",
      "pc  =  0\n",
      "state 16:\n",
      "x  =  8192_16\n",
      "y  =  1_16\n",
      "r  =  5888_16\n",
      "m  =  256_16\n",
      "n  =  55_16\n",
      "pc  =  1\n",
      "state 17:\n",
      "x  =  8192_16\n",
      "y  =  0_16\n",
      "r  =  14080_16\n",
      "m  =  256_16\n",
      "n  =  55_16\n",
      "pc  =  2\n",
      "state 18:\n",
      "x  =  16384_16\n",
      "y  =  0_16\n",
      "r  =  14080_16\n",
      "m  =  256_16\n",
      "n  =  55_16\n",
      "pc  =  0\n",
      "state 19:\n",
      "x  =  16384_16\n",
      "y  =  0_16\n",
      "r  =  14080_16\n",
      "m  =  256_16\n",
      "n  =  55_16\n",
      "pc  =  3\n"
     ]
    }
   ],
   "source": [
    "def gera_traco(declare,init,trans,k):\n",
    "    trace = [declare(i) for i in range(k)]\n",
    "    s = Solver(name = 'z3')\n",
    "    s.reset_assertions()\n",
    "\n",
    "    s.add_assertion(init(trace[0]))\n",
    "\n",
    "    for i in range(k-1):\n",
    "        s.add_assertion(trans(trace[i], trace[i + 1]))\n",
    "\n",
    "    r = s.solve()\n",
    "    if r: # s is SAT\n",
    "        m = s.get_model()\n",
    "        for i in range(k):\n",
    "            print(f\"state {i}:\")\n",
    "            for v in trace[i]:\n",
    "                print(v, ' = ', s.get_value(trace[i][v]))\n",
    "        return\n",
    "    \n",
    "    print('UNSAT!')\n",
    "    return\n",
    "\n",
    "gera_traco(declare, init, trans, 20)"
   ]
  },
  {
   "cell_type": "markdown",
   "metadata": {},
   "source": [
    "### Prova de terminação do programa\n",
    "\n",
    "Utilize-se $k$-lookahead para provar a terminação do programa acima, que é uma propriedade da forma $F (G\\ \\phi)$, onde $\\phi \\equiv pc = 3$.\n",
    "  \n",
    "É necessário encontrar um variante $V$ que satisfaça as seguintes condições, descritas na folha de exercícios 7 das aulas Teórica-Práticas:\n",
    "\n",
    "1. O variante é positivo ou nulo: $G\\ (V(s) \\ge 0)$\n",
    "2. O variante é estritamente decrescente, ou atinge o valor 0, ou seja,\n",
    "  * $G\\ (\\forall s'\\ .\\ \\mathit{trans}(s,\\ s') \\rightarrow (V(s') < V(s) \\lor V(s') = 0))$\n",
    "3. Quando o variante é 0 verifica-se necessariamente $\\phi$, ou seja, $G\\ (V(s)=0 \\rightarrow \\phi(s))$\n",
    "\n",
    "Considerando-se o uso de $k$-lookahead, a $2º$ condição pode ser alargada, permitindo-se que o variante decresça necessariamente de $3$ em $3$ transições, e não necessariamente em transições consecutivas.\n",
    "\n",
    "#### *Lookahead*\n",
    "  \n",
    "O lookahead em causa é de $3$, que é o número mínimo de instruções necessárias para que $pc$ vá do [início ao fim do ciclo](#python-anotado).\n",
    "\n",
    "---\n",
    "\n",
    "Utilize-se o seguinte variante:\n",
    "\n",
    "$$\n",
    "V(s) \\equiv (y_{s} - pc_{s}) + 3\n",
    "$$"
   ]
  },
  {
   "cell_type": "markdown",
   "metadata": {},
   "source": [
    "Antes de proceder à prova de terminação com este variante, algumas notas sobre esta escolha:\n",
    "1. $pc_s$, durante a execução do ciclo, é tal que $0 \\le pc_s \\le 2$\n",
    "2. $y_s$, durante a execução do ciclo, é tal que $y_s \\gt 0 \\Leftrightarrow y_s \\ge 1$\n",
    "3. $y_s - pc_s$, durante a execução do ciclo, é tal que $y_s - pc_s \\ge -1$\n",
    "4. Conclui-se que, durante a execução do ciclo, $(y_s - pc_s) + 3 \\ge 2 \\gt 0$\n",
    "\n",
    "Após a execução do ciclo:\n",
    "* $pc_s = 3 \\Leftrightarrow \\text{o ciclo terminou}$\n",
    "* $\\text{o ciclo terminou} \\Rightarrow y_s \\le 0$\n",
    "\n",
    "Tendo em conta que $y$ sofre um *shift* para a esquerda de 1 bit em cada iteração do ciclo, tem-se necessariamente que na última iteração do ciclo $y_s = 1$, e após essa execução final do corpo do ciclo, $y_s$ será então 0,\n",
    "donde\n",
    "\n",
    "$$\n",
    "\\begin{align*}\n",
    "(y_s - pc_s) + 3 & = -pc_s + 3 \\quad (y_s = 0)\\\\\n",
    "    & = -3 + 3 \\quad (\\text{terminou-se o ciclo, donde } pc_s = 3)\\\\\n",
    "    & = 0 \\\\\n",
    "    & \\ge 0\n",
    "\\end{align*}\n",
    "$$"
   ]
  },
  {
   "cell_type": "markdown",
   "metadata": {},
   "source": [
    "#### Função para $k$-indução, e definição do variante:"
   ]
  },
  {
   "cell_type": "code",
   "execution_count": 35,
   "metadata": {},
   "outputs": [],
   "source": [
    "def variante(state):\n",
    "    return Plus(Minus(BVToNatural(state['y']), state['pc']), Int(3))"
   ]
  },
  {
   "cell_type": "code",
   "execution_count": 36,
   "metadata": {},
   "outputs": [],
   "source": [
    "def kinduction_always(declare, init, trans, inv, k, solvers = [\"z3\"]):\n",
    "    trace = [declare(i) for i in range(k + 1)]\n",
    "    with Portfolio(solvers,\n",
    "               logic=\"QF_BV\",\n",
    "               incremental=False,\n",
    "               generate_models=False) as s:\n",
    "        s.reset_assertions()\n",
    "        s.add_assertion(init(trace[0]))\n",
    "        for i in range(k - 1):\n",
    "            s.add_assertion(trans(trace[i],trace[i + 1]))\n",
    "\n",
    "        l = [Not(inv(trace[i])) for i in range(k)]\n",
    "\n",
    "        s.add_assertion(Or(l))\n",
    "\n",
    "        r = s.solve()\n",
    "\n",
    "        if r:\n",
    "            print('A prova por k-indução falhou no caso base:')\n",
    "            print('O estado do FOTS que causou a falha:')\n",
    "            m = s.get_model()\n",
    "            for i in range(k):\n",
    "                print(i)\n",
    "                for v in trace[i]:\n",
    "                    print(v, ' = ', m[trace[i][v]])\n",
    "            return\n",
    "\n",
    "        s.reset_assertions()\n",
    "        for i in range(k):\n",
    "            s.add_assertion(trans(trace[i],trace[i + 1]))\n",
    "            s.add_assertion(inv(trace[i]))\n",
    "        s.add_assertion(Not(inv(trace[k])))\n",
    "\n",
    "        r = s.solve()\n",
    "\n",
    "        if r:\n",
    "            print(f'Falhou no passo de {k}-indução!')\n",
    "            m = s.get_model()\n",
    "            for i in range(k):\n",
    "                print(i)\n",
    "                for v in trace[i]:\n",
    "                    print(v, ' = ', m[trace[i][v]])\n",
    "            return\n",
    "\n",
    "        if not r:\n",
    "            print(f'Verifica-se a propriedade {inv}')\n",
    "            return"
   ]
  },
  {
   "cell_type": "markdown",
   "metadata": {},
   "source": [
    "Observe-se o uso de [`Portfolio`](https://pysmt.readthedocs.io/en/latest/api_ref.html#pysmt.shortcuts.Portfolio) para a criação de um `solver` que pode usar várias bibliotecas SMT em simultâneo.  \n",
    "Permite também especificar explicitamente a lógica a ser usada por todos os *solvers*, neste caso `QF_BV`."
   ]
  },
  {
   "cell_type": "markdown",
   "metadata": {},
   "source": [
    "---"
   ]
  },
  {
   "cell_type": "markdown",
   "metadata": {},
   "source": [
    "Primeiro, prove-se a propriedade 1.: $V$ é sempre positivo:"
   ]
  },
  {
   "cell_type": "code",
   "execution_count": 37,
   "metadata": {},
   "outputs": [
    {
     "name": "stdout",
     "output_type": "stream",
     "text": [
      "Verifica-se a propriedade <function positivo at 0x7f3eb5fd63b0>\n"
     ]
    }
   ],
   "source": [
    "def positivo(state):\n",
    "    prop = GE(variante(state), Int(0))\n",
    "    return prop\n",
    "\n",
    "kinduction_always(declare, init, trans, positivo, 3, [\"z3\", \"msat\", \"bdd\"])"
   ]
  },
  {
   "cell_type": "markdown",
   "metadata": {},
   "source": [
    "---\n",
    "Agora, a segunda condição:"
   ]
  },
  {
   "cell_type": "code",
   "execution_count": 38,
   "metadata": {},
   "outputs": [
    {
     "name": "stdout",
     "output_type": "stream",
     "text": [
      "Verifica-se a propriedade <function decresce at 0x7f3eb5505cf0>\n"
     ]
    }
   ],
   "source": [
    "def decresce(state):\n",
    "    state1 = declare(-1)\n",
    "    state2 = declare(-2)\n",
    "    state3 = declare(-3)\n",
    "    varnames = list(state1.values()) + list(state2.values()) + list(state3.values())\n",
    "\n",
    "    return ForAll(\n",
    "        varnames,\n",
    "        Implies(\n",
    "            And(trans(state, state1),\n",
    "                trans(state1, state2),\n",
    "                trans(state2, state3)\n",
    "            ),\n",
    "            Or(LT(variante(state3), variante(state)),\n",
    "               Equals(variante(state3), Int(0))\n",
    "            )\n",
    "        )\n",
    "    )\n",
    "\n",
    "kinduction_always(declare, init, trans, decresce, 3)"
   ]
  },
  {
   "cell_type": "markdown",
   "metadata": {},
   "source": [
    "---\n",
    "Finalmente, a terceira condição: que o variante ser zero implica a chegada à última instrução:"
   ]
  },
  {
   "cell_type": "code",
   "execution_count": 39,
   "metadata": {},
   "outputs": [
    {
     "name": "stdout",
     "output_type": "stream",
     "text": [
      "Verifica-se a propriedade <function terminaçao at 0x7f3eb5505900>\n"
     ]
    }
   ],
   "source": [
    "def terminaçao(state):\n",
    "    return Implies(Equals(variante(state), Int(0)), Equals(state['pc'], Int(3)))\n",
    "\n",
    "kinduction_always(declare, init, trans, terminaçao, 3, [\"z3\", \"msat\", \"bdd\"])"
   ]
  },
  {
   "cell_type": "markdown",
   "metadata": {},
   "source": [
    "---"
   ]
  },
  {
   "cell_type": "markdown",
   "metadata": {},
   "source": [
    "# Pergunta 2"
   ]
  },
  {
   "cell_type": "markdown",
   "metadata": {},
   "source": [
    "## Alínea a) Forma recursiva do programa em LPA"
   ]
  },
  {
   "cell_type": "markdown",
   "metadata": {},
   "source": [
    "Recorde-se o programa original:\n",
    "\n",
    "```python\n",
    "        assume m >= 0 and n >= 0 and r == 0 and x == m and y == n \n",
    "    0: while y > 0:\n",
    "    1:    if y & 1 == 1: \n",
    "                y , r  = y-1 , r+x\n",
    "    2:    x , y = x<<1  ,  y>>1\n",
    "    3: assert r == m * n\n",
    "```"
   ]
  },
  {
   "cell_type": "markdown",
   "metadata": {},
   "source": [
    "Seja $W$ o seguinte programa em linguagem de anotações.\n",
    "\n",
    "$$\n",
    "W \\equiv \\{\\text{assume}\\, (y \\ge 0);\\, S;\\, W\\} \\quad || \\quad \\{\\text{assume}\\, \\neg (y \\ge 0)\\}\n",
    "$$\n",
    "\n",
    "onde $S$ é o fluxo que corresponde à tradução da instrução dentro do ciclo para a linguagem de anotações:\n",
    "\n",
    "```python\n",
    "if (y & 1 == 1):\n",
    "    y, r = y - 1, r + x;\n",
    "x = x << 1;\n",
    "y = y >> 1;\n",
    "```\n",
    "\n",
    "equivale a\n",
    "\n",
    "```python\n",
    "({\n",
    "    assume (y & 1 == 1);\n",
    "    y = y - 1;\n",
    "    r = r + x;\n",
    "} ||\n",
    "{\n",
    "    assume not (y & 1 == 1);\n",
    "    skip;\n",
    "})\n",
    "x = x << 1;\n",
    "y = y >> 1;\n",
    "```\n",
    "\n",
    "Logo o triplo de Hoare que especifica o programa na sua forma recursiva é:\n",
    "\n",
    "$\\phi \\equiv$ `assume m >= 0 and n >= 0 and r == 0 and x == m and y == n;`  \n",
    "\n",
    "$\\varphi \\equiv$ `assert r == m * n;`\n",
    "\n",
    "$H \\equiv \\{\\text{assume} \\, \\phi; W; \\text{assume} \\, \\varphi\\};$\n",
    "\n",
    "onde $W$ equivale ao seguinte programa:\n",
    "```python\n",
    "{\n",
    "    assume (y > 0);\n",
    "    {\n",
    "        assume (y & 1 == 1);\n",
    "        y = y - 1;\n",
    "        r = r + x;\n",
    "    } ||\n",
    "    {\n",
    "        assume not (y & 1 == 1);\n",
    "        skip;\n",
    "    }\n",
    "    x = x << 1;\n",
    "    y = y >> 1;\n",
    "    W\n",
    "} ||\n",
    "{\n",
    "    assume not (y > 0);\n",
    "}\n",
    "```"
   ]
  },
  {
   "cell_type": "markdown",
   "metadata": {},
   "source": [
    "---"
   ]
  },
  {
   "cell_type": "markdown",
   "metadata": {},
   "source": [
    "## Alínea b) Invariante de ciclo, codificação em SMT e prova de correção"
   ]
  },
  {
   "cell_type": "markdown",
   "metadata": {},
   "source": [
    "Considere-se o seguinte invariante:\n",
    "\n",
    "$\\theta \\equiv (m \\cdot n = x \\cdot y + r) \\land y \\ge 0$\n",
    "\n",
    "Analise-se a ideia do programa para explicá-lo.\n",
    "\n",
    "Dados $m, n$, o programa coloca em $r$ o valor $m \\cdot n$, e fá-lo da seguinte forma:\n",
    "* Considere-se o número $n$ na sua representação binária, $n = \\sum_{i = 0}^{n} b_i \\cdot 2^i$, onde $b_i$ tem o valor do $i$-ésimo bit de $n$.\n",
    "* Logo, $m \\cdot n = m \\cdot \\sum_{i = 0}^{n} b_i \\cdot 2^i = \\sum_{i = 0}^{n} m \\cdot b_i \\cdot 2^i$\n",
    "  Daí as instruções do ciclo\n",
    "  ```python\n",
    "  if y & 1 == 1: \n",
    "      y, r = y - 1, r + x\n",
    "  x, y = x << 1, y >> 1\n",
    "  ```\n",
    "  Após cada iteração do ciclo $x$ sofre um *shift* para a esquerda (duplicando o seu valor), e se a condição se verificar -\n",
    "  o $i$-ésimo bit de $y$ for 1 - acrescenta-se o valor de $m \\cdot 2^i$ ao resultado $r$.\n",
    "\n",
    "Veja-se o código em execução para exemplicar:"
   ]
  },
  {
   "cell_type": "code",
   "execution_count": 40,
   "metadata": {},
   "outputs": [
    {
     "name": "stdout",
     "output_type": "stream",
     "text": [
      "x: 7; y: 136; y (bin): 10001000; r: 0; x*y + r = 952\n",
      "x: 14; y: 68; y (bin): 1000100; r: 0; x*y + r = 952\n",
      "x: 28; y: 34; y (bin): 100010; r: 0; x*y + r = 952\n",
      "x: 56; y: 17; y (bin): 10001; r: 0; x*y + r = 952\n",
      "x: 112; y: 8; y (bin): 1000; r: 56; x*y + r = 952\n",
      "x: 224; y: 4; y (bin): 100; r: 56; x*y + r = 952\n",
      "x: 448; y: 2; y (bin): 10; r: 56; x*y + r = 952\n",
      "x: 896; y: 1; y (bin): 1; r: 56; x*y + r = 952\n",
      "x: 1792; y: 0; y (bin): 0; r: 952; x*y + r = 952\n"
     ]
    },
    {
     "data": {
      "text/plain": [
       "(952, 952)"
      ]
     },
     "execution_count": 40,
     "metadata": {},
     "output_type": "execute_result"
    }
   ],
   "source": [
    "def mul(m, n):\n",
    "    r = 0\n",
    "    x = m\n",
    "    y = n\n",
    "    def prnt(): print(f\"x: {x}; y: {y}; y (bin): {format(y, 'b')}; r: {r}; x*y + r = {x*y + r}\")\n",
    "    prnt()\n",
    "    while y > 0:\n",
    "        if y & 1 == 1: \n",
    "            y , r  = y-1 , r+x\n",
    "        x , y = x<<1  ,  y>>1\n",
    "        prnt()\n",
    "    return r, m * n\n",
    "\n",
    "mul(7, 136)"
   ]
  },
  {
   "cell_type": "markdown",
   "metadata": {},
   "source": [
    "Note-se que:\n",
    "1. Antes da primeira iteração do ciclo, pela pré condição do programa, $x = m$, $y = n$, e $r = 0$, pelo que ele e válido.\n",
    "2. Após a execução do ciclo, como se viu no caso do variante, tem-se que $y = 0$, pelo que o invariante também se mantém."
   ]
  },
  {
   "cell_type": "markdown",
   "metadata": {},
   "source": [
    "---"
   ]
  },
  {
   "cell_type": "markdown",
   "metadata": {},
   "source": [
    "### Codificação das VCs em PySMT, e prova de validade"
   ]
  },
  {
   "cell_type": "code",
   "execution_count": 41,
   "metadata": {},
   "outputs": [],
   "source": [
    "x = Symbol('x', BV16)\n",
    "y = Symbol('y', BV16)\n",
    "r = Symbol('r', BV16)\n",
    "m = Symbol('m', BV16)\n",
    "n = Symbol('n', BV16)\n",
    "\n",
    "def prove(f):\n",
    "    with Portfolio(\n",
    "        [\"z3\"],\n",
    "        logic=\"QF_BV\",\n",
    "        incremental=False,\n",
    "        generate_models=False) as s:\n",
    "\n",
    "        s.reset_assertions()\n",
    "        s.add_assertion(Not(f))\n",
    "        res = s.solve()\n",
    "        if not res:\n",
    "            print(\"The formula is a tautology!\")\n",
    "        elif res:\n",
    "            print(is_sat(Not(f)))\n",
    "            print(\"The formula is invalid!\")\n",
    "            print(\"Failing state:\")\n",
    "            print(s.get_model())\n",
    "            print(f\"x : {s.get_value(x)}\")\n",
    "            print(f\"y : {s.get_value(y)}\")\n",
    "            print(f\"r : {s.get_value(r)}\")\n",
    "            print(f\"m : {s.get_value(m)}\")\n",
    "            print(f\"n : {s.get_value(n)}\")"
   ]
  },
  {
   "cell_type": "markdown",
   "metadata": {
    "id": "dkwsi-eD2-xH"
   },
   "source": [
    "Das fichas práticas, recorde-se que as condições de verificação de um programa com ciclo são:\n",
    "\n",
    "$$\n",
    "\\frac{\\{\\phi\\}{\\sf skip} \\{\\theta\\} \\quad \\{\\theta \\wedge b\\} C \\{\\theta\\} \\quad \\{\\theta \\wedge \\neg b\\}{\\sf skip} \\{\\psi\\} }{\\{\\phi\\} {\\sf while} \\; b \\;{\\sf do } \\;C \\{\\psi\\}}\n",
    "$$"
   ]
  },
  {
   "cell_type": "markdown",
   "metadata": {},
   "source": [
    "Já se viu acima o corpo do ciclo traduzido para a linguagem de anotações na versão recursiva do programa.\n",
    "Agora, para poder provar a segunda regra, coloca-se as pré e pós-condições, que envolvem o invariante e condição de ciclo\n",
    "\n",
    "```python\n",
    "assume (m * n = x * y + r and y >= 0) and (y > 0)\n",
    "({\n",
    "    assume (y & 1 == 1);\n",
    "    y = y - 1;\n",
    "    r = r + x;\n",
    "} ||\n",
    "{\n",
    "    assume not (y & 1 == 1);\n",
    "    skip;\n",
    "})\n",
    "x = x << 1;\n",
    "y = y >> 1;\n",
    "assert (m * n = x * y + r and y >= 0)\n",
    "```"
   ]
  },
  {
   "cell_type": "markdown",
   "metadata": {
    "id": "tg517tDQ2-xB"
   },
   "source": [
    "Utilizando as seguintes regras WPC para a geração de VCs:\n",
    "\n",
    "\\begin{array}{l}\n",
    "[{\\sf skip}] = True \\\\\n",
    "[{\\sf assume}\\:\\phi] = True \\\\\n",
    "[{\\sf assert}\\:\\phi] = \\phi \\\\\n",
    "[ x = e ] = True \\\\\n",
    "[(C_1 || C_2)] = [C_1] \\wedge [C_2] \\\\\n",
    "\\\\\n",
    "[{\\sf skip}\\, ; C] = [C] \\\\\n",
    "[{\\sf assume}\\:\\phi\\, ; C] = \\phi \\to [C] \\\\\n",
    "[{\\sf assert}\\:\\phi\\, ; C] = \\phi \\wedge [C] \\\\\n",
    "[ x = e \\, ; C] = [C][e/x] \\\\\n",
    "[(C_1 || C_2)\\, ; C] = [(C_1 ; C) || (C_2 ; C)]\n",
    "\\end{array}\n",
    "\n"
   ]
  },
  {
   "cell_type": "markdown",
   "metadata": {},
   "source": [
    "Tem-se:"
   ]
  },
  {
   "cell_type": "markdown",
   "metadata": {},
   "source": [
    "$(\\theta \\land (y \\gt 0)) \\rightarrow [(C_1 ; C)] \\land [(C_2 ; C)]$\n",
    "\n",
    "onde $\\theta \\equiv (m \\cdot n = x \\cdot y + r) \\land y \\ge 0$ é o invariante descrito acima, $C_1, C_2, C$ são os programas\n",
    "\n",
    "```python\n",
    "assume (y & 1 == 1);\n",
    "y = y - 1;\n",
    "r = r + x;\n",
    "```\n",
    "e\n",
    "```python\n",
    "assume not (y & 1 == 1);\n",
    "skip;\n",
    "```\n",
    "\n",
    "```python\n",
    "x = x << 1;\n",
    "y = y >> 1;\n",
    "assert (m * n == x * y + r and y >= 0)\n",
    "```\n",
    ", respetivamente."
   ]
  },
  {
   "cell_type": "markdown",
   "metadata": {},
   "source": [
    "---"
   ]
  },
  {
   "cell_type": "markdown",
   "metadata": {},
   "source": [
    "No caso de $ [(C_1 ; C)]$, fica-se com a VC\n",
    "\n",
    "```python\n",
    "[assume (y & 1 == 1);\n",
    "y = y - 1;\n",
    "r = r + x;\n",
    "x = x << 1;\n",
    "y = y >> 1;\n",
    "assert (m * n == x * y + r and y >= 0)]\n",
    "\n",
    "== (y & 1 == 1) -> [y = y - 1;\n",
    "                    r = r + x;\n",
    "                    x = x << 1;\n",
    "                    y = y >> 1;\n",
    "                    assert (m * n == x * y + r and y >= 0)]\n",
    "\n",
    "== (y & 1 == 1) -> (m * n == x * y + r and y >= 0)[y - 1 / y][r + x / r][x << 1 / x][y >> 1 / y]\n",
    "\n",
    "== (y & 1 == 1) -> (m * n == (x << 1) * ((y >> 1) - 1) + (r + x) and ((y >> 1) - 1) >= 0)\n",
    "```"
   ]
  },
  {
   "cell_type": "markdown",
   "metadata": {},
   "source": [
    "---"
   ]
  },
  {
   "cell_type": "markdown",
   "metadata": {},
   "source": [
    "No caso de $ [(C_2 ; C)]$, fica-se com a VC\n",
    "\n",
    "```python\n",
    "[assume not (y & 1 == 1);\n",
    "skip;\n",
    "x = x << 1;\n",
    "y = y >> 1;\n",
    "assert (m * n = x * y + r and y >= 0)]\n",
    "\n",
    "== (y & 1 != 1) -> [x = x << 1;\n",
    "                    y = y >> 1;\n",
    "                    assert (m * n = x * y + r and y >= 0)]\n",
    "\n",
    "== (y & 1 != 1) -> (m * n == x * y + r and y >= 0)[x << 1 / x][y >> 1 / y]\n",
    "\n",
    "== (y & 1 != 1) -> (m * n == (x << 1) * (y >> 1) + r and (y >> 1) >= 0)\n",
    "```"
   ]
  },
  {
   "cell_type": "markdown",
   "metadata": {},
   "source": [
    "---"
   ]
  },
  {
   "cell_type": "markdown",
   "metadata": {},
   "source": [
    "Juntando o anterior, tem-se que a VC de $(\\theta \\land (y \\gt 0)) \\rightarrow [(C_1 ; C)] \\land [(C_2 ; C)]$ é\n",
    "\n",
    "```python\n",
    "(m * n = x * y + r and y >= 0) and (y > 0) ->\n",
    "    (\n",
    "        (y & 1 == 1) -> (m * n = (x << 1) * ((y >> 1) - 1) + (r + x) and y >= 0) and\n",
    "        (y & 1 != 1) -> (m * n = (x << 1) * (y >> 1) + r and y >= 0)\n",
    "    )\n",
    "\n",
    "== (m * n = x * y + r and y > 0) ->\n",
    "    (\n",
    "     (y & 1 == 1) -> (m * n = (x << 1) * ((y >> 1) - 1) + (r + x) and y >= 0) and\n",
    "     (y & 1 != 1) -> (m * n = (x << 1) * (y >> 1) + r and y >= 0)\n",
    "    )\n",
    "```"
   ]
  },
  {
   "cell_type": "code",
   "execution_count": 42,
   "metadata": {},
   "outputs": [],
   "source": [
    "cycle_condition = bitVecIntComp(y, 0, \"GT\")\n",
    "\n",
    "invariant = And(Equals(BVMul(m, n), BVAdd(BVMul(x, y), r)), bitVecIntComp(y, 0, \"GE\"))\n",
    "\n",
    "pre_condition = And([\n",
    "    bitVecIntComp(m, 0, \"GE\"),\n",
    "    bitVecIntComp(n, 0, \"GE\"),\n",
    "    bitVecIntComp(r, 0, \"EQ\"),\n",
    "    Equals(x, m),\n",
    "    Equals(y, n)\n",
    "])\n",
    "\n",
    "post_condition = Equals(r, BVMul(m, n))\n",
    "\n",
    "cond1 = Implies(pre_condition, invariant)"
   ]
  },
  {
   "cell_type": "code",
   "execution_count": 43,
   "metadata": {},
   "outputs": [
    {
     "name": "stdout",
     "output_type": "stream",
     "text": [
      "The formula is a tautology!\n"
     ]
    }
   ],
   "source": [
    "prove(cond1)"
   ]
  },
  {
   "cell_type": "code",
   "execution_count": 44,
   "metadata": {},
   "outputs": [],
   "source": [
    "aux1 = invariant\n",
    "aux1 = substitute(aux1, {y : BVSub(y, BVOne(word_len))})\n",
    "aux1 = substitute(aux1, {r : BVAdd(r, x)})\n",
    "aux1 = substitute(aux1, {y : BVLShr(y, BVOne(word_len))})\n",
    "aux1 = substitute(aux1, {x : BVLShl(x, BVOne(word_len))})\n",
    "\n",
    "c1_then_c = Implies(Equals(BVAnd(y, BVOne(word_len)), BVOne(word_len)), aux1)\n",
    "\n",
    "aux2 = invariant\n",
    "aux2 = substitute(aux2, {x : BVLShl(x, BVOne(word_len))})\n",
    "aux2 = substitute(aux2, {y : BVLShr(y, BVOne(word_len))})\n",
    "\n",
    "c2_then_c = Implies(NotEquals(BVAnd(y, BVOne(word_len)), BVOne(word_len)), aux2)\n",
    "\n",
    "premissa_cond2 = And(Equals(BVMul(m, n), BVAdd(BVMul(x, y), r)), bitVecIntComp(y, 0, \"NEQ\"))\n",
    "\n",
    "cond2 = Implies(premissa_cond2, And(c1_then_c, c2_then_c))"
   ]
  },
  {
   "cell_type": "code",
   "execution_count": 45,
   "metadata": {},
   "outputs": [
    {
     "name": "stdout",
     "output_type": "stream",
     "text": [
      "The formula is a tautology!\n"
     ]
    }
   ],
   "source": [
    "prove(cond2)"
   ]
  },
  {
   "cell_type": "code",
   "execution_count": 46,
   "metadata": {},
   "outputs": [],
   "source": [
    "cond3 = Implies(And(invariant, Not(cycle_condition)), post_condition)"
   ]
  },
  {
   "cell_type": "code",
   "execution_count": 47,
   "metadata": {},
   "outputs": [
    {
     "name": "stdout",
     "output_type": "stream",
     "text": [
      "The formula is a tautology!\n"
     ]
    }
   ],
   "source": [
    "prove(cond3)"
   ]
  },
  {
   "cell_type": "markdown",
   "metadata": {},
   "source": [
    "---"
   ]
  },
  {
   "cell_type": "markdown",
   "metadata": {},
   "source": [
    "## Alínea c) SAU com limite de iterações em ciclo"
   ]
  },
  {
   "cell_type": "code",
   "execution_count": 48,
   "metadata": {},
   "outputs": [],
   "source": [
    "\n",
    "def prime(v):\n",
    "    return Symbol(\"next(%s)\" % v.symbol_name(), v.symbol_type())\n",
    "def fresh(v):\n",
    "    return FreshSymbol(typename=v.symbol_type(),template=v.symbol_name()+\"_%d\")\n",
    "\n",
    "# A classe \"Sigle Assignment Unfold\"\n",
    "class SAU(object):\n",
    "    \"\"\"Trivial representation of a while cycle and its unfolding.\"\"\"\n",
    "    def __init__(self, variables, pre , pos, control, trans, sname=\"z3\"):\n",
    "              \n",
    "        self.variables = variables       # variables   \n",
    "        self.pre = pre                   # pre-condition as a predicate in \"variables\"\n",
    "        self.pos = pos                   # pos-condition as a predicate in \"variables\"\n",
    "        self.control = control           # cycle control as a predicate in \"variables\"\n",
    "        self.trans = trans               # cycle body as a binary transition relation \n",
    "                                         # in \"variables\" and \"prime variables\"\n",
    "        \n",
    "        self.prime_variables = [prime(v) for v in self.variables]\n",
    "        self.frames = [And([Not(control),pos])]\n",
    "                 # inializa com uma só frame: a da terminação do ciclo\n",
    "        \n",
    "        self.solver = Solver(name=sname)\n",
    "        self.solver.reset_assertions()\n",
    "\n",
    "    def new_frame(self):\n",
    "        freshs = [fresh(v) for v in self.variables]\n",
    "        b = self.control\n",
    "        S = self.trans.substitute(dict(zip(self.prime_variables,freshs)))\n",
    "        W = self.frames[-1].substitute(dict(zip(self.variables,freshs)))\n",
    "        \n",
    "        self.frames.append(And([b , ForAll(freshs, Implies(S, W))]))\n",
    "        \n",
    "    def unfold(self,bound=0):\n",
    "        n = 0\n",
    "        while True:\n",
    "            if n > bound:\n",
    "                print(\"falha: número de tentativas ultrapassa o limite %d \"%bound)\n",
    "                break\n",
    "            \n",
    "            f = Or(self.frames)\n",
    "            if self.solver.solve([self.pre,Not(f)]):\n",
    "                self.new_frame()\n",
    "                n += 1\n",
    "            else:\n",
    "                print(\"sucesso na tentativa %d \"%n)\n",
    "                break"
   ]
  },
  {
   "cell_type": "markdown",
   "metadata": {},
   "source": [
    "---"
   ]
  },
  {
   "cell_type": "markdown",
   "metadata": {},
   "source": [
    "\n",
    "No enunciado, para fazer a prova de correção parcial por SAU do programa, pede-se o aumento da pré-condição com a proposição.\n",
    "\n",
    "$$(n < N)\\,\\land\\,(m<N)$$\n",
    "\n",
    "Diz também que o número de iterações é controlado pelo parâmetro $N$."
   ]
  },
  {
   "cell_type": "markdown",
   "metadata": {},
   "source": [
    "Recorde-se o programa em Python, acompanhado de um traço da sua execução."
   ]
  },
  {
   "cell_type": "code",
   "execution_count": 49,
   "metadata": {},
   "outputs": [
    {
     "name": "stdout",
     "output_type": "stream",
     "text": [
      "x: 7; y: 136; y (bin): 10001000; r: 0; x*y + r = 952\n",
      "x: 14; y: 68; y (bin): 1000100; r: 0; x*y + r = 952\n",
      "x: 28; y: 34; y (bin): 100010; r: 0; x*y + r = 952\n",
      "x: 56; y: 17; y (bin): 10001; r: 0; x*y + r = 952\n",
      "x: 112; y: 8; y (bin): 1000; r: 56; x*y + r = 952\n",
      "x: 224; y: 4; y (bin): 100; r: 56; x*y + r = 952\n",
      "x: 448; y: 2; y (bin): 10; r: 56; x*y + r = 952\n",
      "x: 896; y: 1; y (bin): 1; r: 56; x*y + r = 952\n",
      "x: 1792; y: 0; y (bin): 0; r: 952; x*y + r = 952\n"
     ]
    },
    {
     "data": {
      "text/plain": [
       "(952, 952)"
      ]
     },
     "execution_count": 49,
     "metadata": {},
     "output_type": "execute_result"
    }
   ],
   "source": [
    "def mul(m, n):\n",
    "    r = 0\n",
    "    x = m\n",
    "    y = n\n",
    "    def prnt(): print(f\"x: {x}; y: {y}; y (bin): {format(y, 'b')}; r: {r}; x*y + r = {x*y + r}\")\n",
    "    prnt()\n",
    "    while y > 0:\n",
    "        if y & 1 == 1: \n",
    "            y , r  = y-1 , r+x\n",
    "        x , y = x<<1  ,  y>>1\n",
    "        prnt()\n",
    "    return r, m * n\n",
    "\n",
    "mul(7, 136)"
   ]
  },
  {
   "cell_type": "markdown",
   "metadata": {},
   "source": [
    "---"
   ]
  },
  {
   "cell_type": "markdown",
   "metadata": {},
   "source": [
    "Numa primeira instância, veja-se que,\n",
    "* como se consideram como inputs vetores de no máximo $16$ bits, e\n",
    "* no ciclo *while* faz-se em cada iteração um *shift* à direita de $y$ até ser $0$, então o ciclo faz, para\n",
    "  inputs com 16 bits, no máximo 16 iterações.\n",
    "\n",
    "Logo pode-se fixar o número máximo de iterações do SAU em 16."
   ]
  },
  {
   "cell_type": "markdown",
   "metadata": {},
   "source": [
    "---"
   ]
  },
  {
   "cell_type": "markdown",
   "metadata": {},
   "source": [
    "No entanto, considere-se agora que o número de iterações está também limitado pela grandeza de $y$:\n",
    "* no exemplo acima, $y$ tem $\\lceil log_2(136) = 8 \\rceil$ bits, pelo que o ciclo corre no máximo 8 vezes, muito abaixo das 16 máximas para um inteiro de 16 bits."
   ]
  },
  {
   "cell_type": "markdown",
   "metadata": {},
   "source": [
    "Conclui-se que o número máximo de iterações do SAU é, tendo-se $$(n < N)\\,\\land\\,(m<N)$$\n",
    "\n",
    ",o valor\n",
    "\n",
    "$$\\lceil log_2(N) \\rceil$$"
   ]
  },
  {
   "cell_type": "code",
   "execution_count": 54,
   "metadata": {},
   "outputs": [
    {
     "name": "stdout",
     "output_type": "stream",
     "text": [
      "sucesso na tentativa 16 \n"
     ]
    }
   ],
   "source": [
    "N  = 2**16 - 1\n",
    "zero = Int(0)\n",
    "one  = BVOne(word_len)\n",
    "\n",
    "# O ciclo\n",
    "x = Symbol('x', BV16)\n",
    "y = Symbol('y', BV16)\n",
    "r = Symbol('r', BV16)\n",
    "m = Symbol('m', BV16)\n",
    "n = Symbol('n', BV16)\n",
    "variables = [x, y, r]\n",
    "\n",
    "pre_condition = And([\n",
    "    bitVecIntComp(m, 0, \"GE\"),\n",
    "    bitVecIntComp(n, 0, \"GE\"),\n",
    "    bitVecIntComp(r, 0, \"EQ\"),\n",
    "    Equals(x, m),\n",
    "    Equals(y, n),\n",
    "    And(bitVecIntComp(m, N, \"LT\"), bitVecIntComp(n, N, \"LT\"))\n",
    "])\n",
    "\n",
    "post_condition = Equals(one, one)\n",
    "\n",
    "cond =  bitVecIntComp(y, 0, \"GT\")   # condição de controlo do ciclo\n",
    "\n",
    "trans = And([\n",
    "    Equals(prime(x), BVLShl(x, one)),\n",
    "    Ite(Equals(BVAnd(y, one), one),\n",
    "        And([\n",
    "            Equals(prime(y), BVLShr(BVSub(y, one), one)),\n",
    "            Equals(prime(r), BVAdd(r, x))\n",
    "            ]),\n",
    "        Equals(prime(y), BVLShr(y, one))\n",
    "       )\n",
    "])\n",
    "\n",
    "W = SAU(variables, pre_condition, post_condition, cond, trans)\n",
    "\n",
    "from math import log2, ceil\n",
    "\n",
    "bound = ceil(log2(N))\n",
    "\n",
    "#Run\n",
    "W.unfold(bound)"
   ]
  },
  {
   "cell_type": "markdown",
   "metadata": {},
   "source": [
    "# Misc"
   ]
  },
  {
   "cell_type": "code",
   "execution_count": 26,
   "metadata": {},
   "outputs": [],
   "source": [
    "def test():\n",
    "    solver =  Solver()\n",
    "    a = Symbol('a', BVType(16))\n",
    "    b = Symbol('b', BVType(16))\n",
    "    solver.add_assertion(GE(BVToNatural(BVAdd(a, b)), Int(56)))\n",
    "    solver.add_assertion(Equals(BVAnd(a, BVOne(word_len)), BVSub(SBV(1, word_len), SBV(-1, word_len))))\n",
    "    solver.add_assertion(Not(Equals(a, SBV(0, word_len))))\n",
    "    # assertion 1: a = b\n",
    "    res = solver.solve() # SAT (res == True)\n",
    "    if res:\n",
    "        print(solver.get_model())\n",
    "        print('value a: {}'.format(solver.get_value(a)))\n",
    "        print('value b: {}'.format(solver.get_value(b)))\n",
    "test()"
   ]
  },
  {
   "cell_type": "code",
   "execution_count": 27,
   "metadata": {},
   "outputs": [
    {
     "name": "stdout",
     "output_type": "stream",
     "text": [
      "a := 63292_16\n",
      "value a: 63292_16\n",
      "value b: 0_16\n"
     ]
    }
   ],
   "source": [
    "def test2():\n",
    "    solver =  Solver()\n",
    "    a = Symbol('a', BVType(16))\n",
    "    b = Symbol('b', BVType(16))\n",
    "    solver.add_assertion(Equals(BVSub(a, SBV(-1, word_len)), SBV(-2243, word_len)))\n",
    "    # assertion 1: a = b\n",
    "    res = solver.solve() # SAT (res == True)\n",
    "    if res:\n",
    "        print(solver.get_model())\n",
    "        print('value a: {}'.format(solver.get_value(a)))\n",
    "        print('value b: {}'.format(solver.get_value(b)))\n",
    "test2()"
   ]
  },
  {
   "cell_type": "code",
   "execution_count": 28,
   "metadata": {},
   "outputs": [
    {
     "name": "stdout",
     "output_type": "stream",
     "text": [
      "z := 1\n",
      "y := -1\n",
      "x := 4353454\n"
     ]
    }
   ],
   "source": [
    "def test3():\n",
    "    solver =  Solver()\n",
    "    x = Symbol('x', INT)\n",
    "    y = Symbol('y', INT)\n",
    "    z = Symbol('z', INT)\n",
    "    solver.add_assertion(Equals(x + y - z, Int(4353452)))\n",
    "    solver.add_assertion(NotEquals(x, Int(0)))\n",
    "    solver.add_assertion(NotEquals(y, Int(0)))\n",
    "    solver.add_assertion(NotEquals(z, Int(0)))\n",
    "    # assertion 1: a = b\n",
    "    res = solver.solve() # SAT (res == True)\n",
    "    if res:\n",
    "        print(solver.get_model())\n",
    "test3()"
   ]
  },
  {
   "cell_type": "code",
   "execution_count": 64,
   "metadata": {},
   "outputs": [
    {
     "name": "stdout",
     "output_type": "stream",
     "text": [
      "z := -1\n",
      "y := -2\n",
      "x := 123392756\n"
     ]
    }
   ],
   "source": [
    "def test4():\n",
    "    solver =  Solver()\n",
    "    solver.reset_assertions()\n",
    "    x = Symbol('x', INT)\n",
    "    y = Symbol('y', INT)\n",
    "    z = Symbol('z', INT)\n",
    "    solver.add_assertion(Equals(Plus(Plus(x, y), z), Int(123392753)))\n",
    "    solver.add_assertion(NotEquals(x, Int(0)))\n",
    "    solver.add_assertion(NotEquals(y, Int(0)))\n",
    "    solver.add_assertion(NotEquals(z, Int(0)))\n",
    "    solver.add_assertion(Not(Equals(x, y)))\n",
    "    solver.add_assertion(Not(Equals(y, z)))\n",
    "    solver.add_assertion(Not(Equals(x, z)))\n",
    "    # assertion 1: a = b\n",
    "    res = solver.solve() # SAT (res == True)\n",
    "    if res:\n",
    "        print(solver.get_model())\n",
    "test4()"
   ]
  },
  {
   "cell_type": "code",
   "execution_count": 42,
   "metadata": {},
   "outputs": [
    {
     "name": "stdout",
     "output_type": "stream",
     "text": [
      "a := 1_16\n",
      "value a: 1_16\n"
     ]
    }
   ],
   "source": [
    "def test5():\n",
    "    solver =  Solver()\n",
    "    a = Symbol('a', BVType(16))\n",
    "    solver.add_assertion(NotEquals(a, BVZero(word_len)))\n",
    "    solver.add_assertion(NotEquals(a, BV(65535, word_len)))\n",
    "    prop = ForAll([a], Implies(NotEquals(a, BVZero(word_len)), NotEquals(BVToNatural(a), Int(0))))\n",
    "    solver.add_assertion(prop)\n",
    "    res = solver.solve() # SAT (res == True)\n",
    "    if res:\n",
    "        print(solver.get_model())\n",
    "        print('value a: {}'.format(solver.get_value(a)))\n",
    "    else:\n",
    "        print(\"Unsat!\")\n",
    "test5()"
   ]
  },
  {
   "cell_type": "code",
   "execution_count": 4,
   "metadata": {},
   "outputs": [
    {
     "data": {
      "text/plain": [
       "'101101'"
      ]
     },
     "execution_count": 4,
     "metadata": {},
     "output_type": "execute_result"
    }
   ],
   "source": [
    "format(45, 'b')"
   ]
  },
  {
   "cell_type": "code",
   "execution_count": 13,
   "metadata": {},
   "outputs": [
    {
     "data": {
      "text/plain": [
       "15.868436755858168"
      ]
     },
     "execution_count": 13,
     "metadata": {},
     "output_type": "execute_result"
    }
   ],
   "source": [
    "n = 59824\n",
    "from math import log2\n",
    "log2(n)"
   ]
  },
  {
   "cell_type": "code",
   "execution_count": 14,
   "metadata": {},
   "outputs": [
    {
     "data": {
      "text/plain": [
       "16"
      ]
     },
     "execution_count": 14,
     "metadata": {},
     "output_type": "execute_result"
    }
   ],
   "source": [
    "len(format(n, 'b'))"
   ]
  }
 ],
 "metadata": {
  "interpreter": {
   "hash": "b3ba2566441a7c06988d0923437866b63cedc61552a5af99d1f4fb67d367b25f"
  },
  "kernelspec": {
   "display_name": "Python 3.8.11 64-bit ('base': conda)",
   "language": "python",
   "name": "python3"
  },
  "language_info": {
   "codemirror_mode": {
    "name": "ipython",
    "version": 3
   },
   "file_extension": ".py",
   "mimetype": "text/x-python",
   "name": "python",
   "nbconvert_exporter": "python",
   "pygments_lexer": "ipython3",
   "version": "3.10.0"
  },
  "orig_nbformat": 4
 },
 "nbformat": 4,
 "nbformat_minor": 2
}
